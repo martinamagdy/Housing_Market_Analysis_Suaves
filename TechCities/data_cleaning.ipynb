{
 "cells": [
  {
   "cell_type": "code",
   "execution_count": 33,
   "metadata": {},
   "outputs": [],
   "source": [
    "import pandas as pd\n",
    "from sqlalchemy import create_engine\n",
    "#import requests\n",
    "#import json\n",
    "import pymysql\n",
    "pymysql.install_as_MySQLdb()\n",
    "from mysql_conn import password"
   ]
  },
  {
   "cell_type": "markdown",
   "metadata": {},
   "source": [
    "# SQFT Dataset"
   ]
  },
  {
   "cell_type": "code",
   "execution_count": 34,
   "metadata": {},
   "outputs": [],
   "source": [
    "sqft_raw = pd.read_csv('Raw_Data/City_MedianValuePerSqft_AllHomes.csv', encoding = 'latin-1')\n",
    "#sqft_raw.head()"
   ]
  },
  {
   "cell_type": "code",
   "execution_count": 35,
   "metadata": {},
   "outputs": [],
   "source": [
    "# sqft_raw.Metro.loc[sqft_raw.State == 'WA']"
   ]
  },
  {
   "cell_type": "code",
   "execution_count": 36,
   "metadata": {},
   "outputs": [],
   "source": [
    "# Grab only rows for specified metropolitan areas\n",
    "cities = ['Seattle', 'Washington', 'Detroit', 'Denver', 'Austin', 'San Francisco', \n",
    "          'Dallas', 'New York', 'Orlando', 'Raleigh', 'Durham']\n",
    "metro_index = []\n",
    "for city in cities:\n",
    "    metro_index.append(sqft_raw.index[sqft_raw['Metro'].str.contains(city, na = False)].tolist())\n",
    "    \n",
    "\n",
    "\n",
    "metro_index = [item for sublist in metro_index for item in sublist]\n",
    "\n",
    "sqft_metro = sqft_raw.iloc[metro_index]\n",
    "#sqft_metro.head()"
   ]
  },
  {
   "cell_type": "code",
   "execution_count": 37,
   "metadata": {},
   "outputs": [
    {
     "name": "stderr",
     "output_type": "stream",
     "text": [
      "C:\\Users\\Russell Bogen\\Anaconda3\\lib\\site-packages\\ipykernel_launcher.py:2: SettingWithCopyWarning: \n",
      "A value is trying to be set on a copy of a slice from a DataFrame.\n",
      "Try using .loc[row_indexer,col_indexer] = value instead\n",
      "\n",
      "See the caveats in the documentation: http://pandas.pydata.org/pandas-docs/stable/indexing.html#indexing-view-versus-copy\n",
      "  \n"
     ]
    }
   ],
   "source": [
    "# Set up Raleigh-Durham-Chapel Hill area\n",
    "sqft_metro['Metro'] = sqft_metro['Metro'].replace(['Durham-Chapel Hill', 'Raleigh'], 'Raleigh-Durham-Chapel Hill')"
   ]
  },
  {
   "cell_type": "code",
   "execution_count": 38,
   "metadata": {},
   "outputs": [],
   "source": [
    "#Group regions under each metro area\n",
    "metro_group = sqft_metro.groupby('Metro').mean()\n",
    "metro_group.drop(index = ['Washington Court House', 'Austin'], columns = ['RegionID', 'SizeRank'], inplace = True)\n",
    "metro_group.reset_index(inplace = True)\n",
    "#metro_group"
   ]
  },
  {
   "cell_type": "code",
   "execution_count": 39,
   "metadata": {},
   "outputs": [],
   "source": [
    "metro_group['_1996'] = (metro_group['1996-04'] + metro_group['1996-05'] + metro_group['1996-06'] + \n",
    "                          metro_group['1996-07'] + metro_group['1996-08'] + metro_group['1996-09'] + \n",
    "                          metro_group['1996-10'] + metro_group['1996-11'] + metro_group['1996-12'])/9\n",
    "metro_group['_1997'] = (metro_group['1997-01'] + metro_group['1997-02'] + metro_group['1997-03'] + \n",
    "                          metro_group['1997-04'] + metro_group['1997-05'] + metro_group['1997-06'] + \n",
    "                          metro_group['1997-07'] + metro_group['1997-08'] + metro_group['1997-09'] + \n",
    "                          metro_group['1997-10'] + metro_group['1997-11'] + metro_group['1997-12'])/12\n",
    "metro_group['_1998'] = (metro_group['1998-01'] + metro_group['1998-02'] + metro_group['1998-03'] + \n",
    "                          metro_group['1998-04'] + metro_group['1998-05'] + metro_group['1998-06'] + \n",
    "                          metro_group['1998-07'] + metro_group['1998-08'] + metro_group['1998-09'] + \n",
    "                          metro_group['1998-10'] + metro_group['1998-11'] + metro_group['1998-12'])/12\n",
    "metro_group['_1999'] = (metro_group['1999-01'] + metro_group['1999-02'] + metro_group['1999-03'] + \n",
    "                          metro_group['1999-04'] + metro_group['1999-05'] + metro_group['1999-06'] + \n",
    "                          metro_group['1999-07'] + metro_group['1999-08'] + metro_group['1999-09'] + \n",
    "                          metro_group['1999-10'] + metro_group['1999-11'] + metro_group['1999-12'])/12\n",
    "metro_group['_2000'] = (metro_group['2000-01'] + metro_group['2000-02'] + metro_group['2000-03'] + \n",
    "                          metro_group['2000-04'] + metro_group['2000-05'] + metro_group['2000-06'] + \n",
    "                          metro_group['2000-07'] + metro_group['2000-08'] + metro_group['2000-09'] + \n",
    "                          metro_group['2000-10'] + metro_group['2000-11'] + metro_group['2000-12'])/12\n",
    "metro_group['_2001'] = (metro_group['2001-01'] + metro_group['2001-02'] + metro_group['2001-03'] + \n",
    "                          metro_group['2001-04'] + metro_group['2001-05'] + metro_group['2001-06'] + \n",
    "                          metro_group['2001-07'] + metro_group['2001-08'] + metro_group['2001-09'] + \n",
    "                          metro_group['2001-10'] + metro_group['2001-11'] + metro_group['2001-12'])/12\n",
    "metro_group['_2002'] = (metro_group['2002-01'] + metro_group['2002-02'] + metro_group['2002-03'] + \n",
    "                          metro_group['2002-04'] + metro_group['2002-05'] + metro_group['2002-06'] + \n",
    "                          metro_group['2002-07'] + metro_group['2002-08'] + metro_group['2002-09'] + \n",
    "                          metro_group['2002-10'] + metro_group['2002-11'] + metro_group['2002-12'])/12\n",
    "metro_group['_2003'] = (metro_group['2003-01'] + metro_group['2003-02'] + metro_group['2003-03'] + \n",
    "                          metro_group['2003-04'] + metro_group['2003-05'] + metro_group['2003-06'] + \n",
    "                          metro_group['2003-07'] + metro_group['2003-08'] + metro_group['2003-09'] + \n",
    "                          metro_group['2003-10'] + metro_group['2003-11'] + metro_group['2003-12'])/12\n",
    "metro_group['_2004'] = (metro_group['2004-01'] + metro_group['2004-02'] + metro_group['2004-03'] + \n",
    "                          metro_group['2004-04'] + metro_group['2004-05'] + metro_group['2004-06'] + \n",
    "                          metro_group['2004-07'] + metro_group['2004-08'] + metro_group['2004-09'] + \n",
    "                          metro_group['2004-10'] + metro_group['2004-11'] + metro_group['2004-12'])/12\n",
    "metro_group['_2005'] = (metro_group['2005-01'] + metro_group['2005-02'] + metro_group['2005-03'] + \n",
    "                          metro_group['2005-04'] + metro_group['2005-05'] + metro_group['2005-06'] + \n",
    "                          metro_group['2005-07'] + metro_group['2005-08'] + metro_group['2005-09'] + \n",
    "                          metro_group['2005-10'] + metro_group['2005-11'] + metro_group['2005-12'])/12\n",
    "metro_group['_2006'] = (metro_group['2006-01'] + metro_group['2006-02'] + metro_group['2006-03'] + \n",
    "                          metro_group['2006-04'] + metro_group['2006-05'] + metro_group['2006-06'] + \n",
    "                          metro_group['2006-07'] + metro_group['2006-08'] + metro_group['2006-09'] + \n",
    "                          metro_group['2006-10'] + metro_group['2006-11'] + metro_group['2006-12'])/12\n",
    "metro_group['_2007'] = (metro_group['2007-01'] + metro_group['2007-02'] + metro_group['2007-03'] + \n",
    "                          metro_group['2007-04'] + metro_group['2007-05'] + metro_group['2007-06'] + \n",
    "                          metro_group['2007-07'] + metro_group['2007-08'] + metro_group['2007-09'] + \n",
    "                          metro_group['2007-10'] + metro_group['2007-11'] + metro_group['2007-12'])/12\n",
    "metro_group['_2008'] = (metro_group['2008-01'] + metro_group['2008-02'] + metro_group['2008-03'] + \n",
    "                          metro_group['2008-04'] + metro_group['2008-05'] + metro_group['2008-06'] + \n",
    "                          metro_group['2008-07'] + metro_group['2008-08'] + metro_group['2008-09'] + \n",
    "                          metro_group['2008-10'] + metro_group['2008-11'] + metro_group['2008-12'])/12\n",
    "metro_group['_2009'] = (metro_group['2009-01'] + metro_group['2009-02'] + metro_group['2009-03'] + \n",
    "                          metro_group['2009-04'] + metro_group['2009-05'] + metro_group['2009-06'] + \n",
    "                          metro_group['2009-07'] + metro_group['2009-08'] + metro_group['2009-09'] + \n",
    "                          metro_group['2009-10'] + metro_group['2009-11'] + metro_group['2009-12'])/12\n",
    "metro_group['_2010'] = (metro_group['2010-01'] + metro_group['2010-02'] + metro_group['2010-03'] + \n",
    "                          metro_group['2010-04'] + metro_group['2010-05'] + metro_group['2010-06'] + \n",
    "                          metro_group['2010-07'] + metro_group['2010-08'] + metro_group['2010-09'] + \n",
    "                          metro_group['2010-10'] + metro_group['2010-11'] + metro_group['2010-12'])/12\n",
    "metro_group['_2011'] = (metro_group['2011-01'] + metro_group['2011-02'] + metro_group['2011-03'] + \n",
    "                          metro_group['2011-04'] + metro_group['2011-05'] + metro_group['2011-06'] + \n",
    "                          metro_group['2011-07'] + metro_group['2011-08'] + metro_group['2011-09'] + \n",
    "                          metro_group['2011-10'] + metro_group['2011-11'] + metro_group['2011-12'])/12\n",
    "metro_group['_2012'] = (metro_group['2012-01'] + metro_group['2012-02'] + metro_group['2012-03'] + \n",
    "                          metro_group['2012-04'] + metro_group['2012-05'] + metro_group['2012-06'] + \n",
    "                          metro_group['2012-07'] + metro_group['2012-08'] + metro_group['2012-09'] + \n",
    "                          metro_group['2012-10'] + metro_group['2012-11'] + metro_group['2012-12'])/12\n",
    "metro_group['_2013'] = (metro_group['2013-01'] + metro_group['2013-02'] + metro_group['2013-03'] + \n",
    "                          metro_group['2013-04'] + metro_group['2013-05'] + metro_group['2013-06'] + \n",
    "                          metro_group['2013-07'] + metro_group['2013-08'] + metro_group['2013-09'] + \n",
    "                          metro_group['2013-10'] + metro_group['2013-11'] + metro_group['2013-12'])/12\n",
    "metro_group['_2014'] = (metro_group['2014-01'] + metro_group['2014-02'] + metro_group['2014-03'] + \n",
    "                          metro_group['2014-04'] + metro_group['2014-05'] + metro_group['2014-06'] + \n",
    "                          metro_group['2014-07'] + metro_group['2014-08'] + metro_group['2014-09'] + \n",
    "                          metro_group['2014-10'] + metro_group['2014-11'] + metro_group['2014-12'])/12\n",
    "metro_group['_2015'] = (metro_group['2015-01'] + metro_group['2015-02'] + metro_group['2015-03'] + \n",
    "                          metro_group['2015-04'] + metro_group['2015-05'] + metro_group['2015-06'] + \n",
    "                          metro_group['2015-07'] + metro_group['2015-08'] + metro_group['2015-09'] + \n",
    "                          metro_group['2015-10'] + metro_group['2015-11'] + metro_group['2015-12'])/12\n",
    "metro_group['_2016'] = (metro_group['2016-01'] + metro_group['2016-02'] + metro_group['2016-03'] + \n",
    "                          metro_group['2016-04'] + metro_group['2016-05'] + metro_group['2016-06'] + \n",
    "                          metro_group['2016-07'] + metro_group['2016-08'] + metro_group['2016-09'] + \n",
    "                          metro_group['2016-10'] + metro_group['2016-11'] + metro_group['2016-12'])/12\n",
    "metro_group['_2017'] = (metro_group['2017-01'] + metro_group['2017-02'] + metro_group['2017-03'] + \n",
    "                          metro_group['2017-04'] + metro_group['2017-05'] + metro_group['2017-06'] + \n",
    "                          metro_group['2017-07'] + metro_group['2017-08'] + metro_group['2017-09'] + \n",
    "                          metro_group['2017-10'] + metro_group['2017-11'] + metro_group['2017-12'])/12\n",
    "metro_group['_2018'] = (metro_group['2018-01'] + metro_group['2018-02'] + metro_group['2018-03'] + \n",
    "                          metro_group['2018-04'] + metro_group['2018-05'] + metro_group['2018-06'] + \n",
    "                          metro_group['2018-07'] + metro_group['2018-08'] + metro_group['2018-09'] + \n",
    "                          metro_group['2018-10'] + metro_group['2018-11'] + metro_group['2018-12'])/12\n",
    "#metro_group.head()"
   ]
  },
  {
   "cell_type": "markdown",
   "metadata": {},
   "source": [
    "# Sales Count Dataset"
   ]
  },
  {
   "cell_type": "code",
   "execution_count": 40,
   "metadata": {},
   "outputs": [],
   "source": [
    "us_state_abbrev = {\n",
    "    'Alabama': 'AL', 'Alaska': 'AK', 'Arizona': 'AZ', 'Arkansas': 'AR', 'California': 'CA',\n",
    "    'Colorado': 'CO', 'Connecticut': 'CT', 'Delaware': 'DE', 'Florida': 'FL', 'Georgia': 'GA',\n",
    "    'Hawaii': 'HI', 'Idaho': 'ID', 'Illinois': 'IL', 'Indiana': 'IN', 'Iowa': 'IA',\n",
    "    'Kansas': 'KS', 'Kentucky': 'KY', 'Louisiana': 'LA', 'Maine': 'ME', 'Maryland': 'MD',\n",
    "    'Massachusetts': 'MA', 'Michigan': 'MI', 'Minnesota': 'MN', 'Mississippi': 'MS', 'Missouri': 'MO',\n",
    "    'Montana': 'MT', 'Nebraska': 'NE', 'Nevada': 'NV', 'New Hampshire': 'NH', 'New Jersey': 'NJ',\n",
    "    'New Mexico': 'NM', 'New York': 'NY', 'North Carolina': 'NC', 'North Dakota': 'ND', 'Ohio': 'OH',\n",
    "    'Oklahoma': 'OK', 'Oregon': 'OR', 'Pennsylvania': 'PA', 'Rhode Island': 'RI', 'South Carolina': 'SC',\n",
    "    'South Dakota': 'SD', 'Tennessee': 'TN', 'Texas': 'TX', 'Utah': 'UT', 'Vermont': 'VT',\n",
    "    'Virginia': 'VA', 'Washington': 'WA', 'West Virginia': 'WV', 'Wisconsin': 'WI', 'Wyoming': 'WY',\n",
    "    'District of Columbia': 'DC'\n",
    "}"
   ]
  },
  {
   "cell_type": "code",
   "execution_count": 41,
   "metadata": {},
   "outputs": [],
   "source": [
    "sales_raw = pd.read_csv('Raw_Data/Sale_Counts_Seas_Adj_City.csv', encoding = 'latin-1')\n",
    "#sales_raw.head()"
   ]
  },
  {
   "cell_type": "code",
   "execution_count": 42,
   "metadata": {},
   "outputs": [],
   "source": [
    "# Change state names to abbreviations\n",
    "sales_raw = sales_raw.replace({'StateName' : us_state_abbrev})"
   ]
  },
  {
   "cell_type": "code",
   "execution_count": 43,
   "metadata": {},
   "outputs": [
    {
     "name": "stderr",
     "output_type": "stream",
     "text": [
      "C:\\Users\\Russell Bogen\\Anaconda3\\lib\\site-packages\\ipykernel_launcher.py:3: SettingWithCopyWarning: \n",
      "A value is trying to be set on a copy of a slice from a DataFrame.\n",
      "Try using .loc[row_indexer,col_indexer] = value instead\n",
      "\n",
      "See the caveats in the documentation: http://pandas.pydata.org/pandas-docs/stable/indexing.html#indexing-view-versus-copy\n",
      "  This is separate from the ipykernel package so we can avoid doing imports until\n"
     ]
    }
   ],
   "source": [
    "# Group regions into their metropolitan areas\n",
    "sales_raw['RegionID'] = sales_raw['RegionID'].astype(int).astype(str)\n",
    "sqft_metro['RegionID'] = sqft_metro['RegionID'].astype(str)\n",
    "\n",
    "sales = list(sqft_metro['RegionID'])\n",
    "\n",
    "sales_index = []\n",
    "for sale in sales:\n",
    "  if len(sales_raw.loc[sales_raw['RegionID'] == sale].index) > 0:\n",
    "    sales_index.append(sales_raw.loc[sales_raw['RegionID'] == sale].index[0])\n",
    "\n",
    "sales_metro = sales_raw.iloc[sales_index]"
   ]
  },
  {
   "cell_type": "code",
   "execution_count": 44,
   "metadata": {},
   "outputs": [],
   "source": [
    "# Generate list of metro area names\n",
    "metro_names = list(sqft_metro.Metro.unique())\n",
    "metro_names.remove('Washington Court House')\n",
    "metro_names.remove('Austin')\n",
    "\n",
    "metro_names = ['Seattle-Tacoma-Bellevue',\n",
    " 'Washington-Arlington-Alexandria',\n",
    " 'Detroit-Warren-Dearborn',\n",
    " 'Denver-Aurora-Lakewood',\n",
    " 'Austin-Round Rock',\n",
    " 'Orlando-Kissimmee-Sanford',\n",
    " 'Raleigh-Durham-Chapel Hill', 'Dallas-Fort Worth-Arlington', 'San Francisco-Oakland-Hayward', 'New York-Newark-Jersey City']"
   ]
  },
  {
   "cell_type": "code",
   "execution_count": 45,
   "metadata": {},
   "outputs": [],
   "source": [
    "# Dictionary of metro aread and states\n",
    "metro_agg = []\n",
    "for i in range(0, len(metro_names)):\n",
    "    state = list(sqft_metro.loc[sqft_metro.Metro == metro_names[i]].State.unique())\n",
    "    metro_agg.append({metro_names[i] : state})\n",
    "\n",
    "#metro_agg"
   ]
  },
  {
   "cell_type": "code",
   "execution_count": 46,
   "metadata": {},
   "outputs": [
    {
     "name": "stderr",
     "output_type": "stream",
     "text": [
      "C:\\Users\\Russell Bogen\\Anaconda3\\lib\\site-packages\\ipykernel_launcher.py:14: SettingWithCopyWarning: \n",
      "A value is trying to be set on a copy of a slice from a DataFrame.\n",
      "Try using .loc[row_indexer,col_indexer] = value instead\n",
      "\n",
      "See the caveats in the documentation: http://pandas.pydata.org/pandas-docs/stable/indexing.html#indexing-view-versus-copy\n",
      "  \n"
     ]
    }
   ],
   "source": [
    "sales_agg = pd.DataFrame()\n",
    "WA_cities = []\n",
    "for i in range(0, len(metro_names)):\n",
    "    for j in range(0, len(metro_agg[i][metro_names[i]])):\n",
    "        WA_sales = sales_metro.loc[sales_metro.StateName == metro_agg[i][metro_names[i]][j]]\n",
    "        WA_metro = sqft_metro.loc[sqft_metro.State == metro_agg[i][metro_names[i]][j]]\n",
    "        for value in WA_sales.RegionName.unique():\n",
    "            if value in WA_metro.RegionName.unique() and (list((WA_metro.loc[WA_metro.RegionName == value].Metro) == metro_names[i])[0]):\n",
    "                WA_cities.append(value)\n",
    "#         WA_cities = [value for value in WA_sales.RegionName.unique() if (value in WA_metro.RegionName.unique()) and (WA_metro.Metro == metro_names[i])]\n",
    "\n",
    "        # RegionID for every city in Seattle metro area\n",
    "        WA_agg = WA_sales.loc[sales_metro['RegionName'].isin(WA_cities)]\n",
    "        WA_agg['Metro'] = metro_names[i]\n",
    "        sales_agg = sales_agg.append(WA_agg, ignore_index = True)\n",
    "#sales_agg.head()"
   ]
  },
  {
   "cell_type": "code",
   "execution_count": 47,
   "metadata": {},
   "outputs": [
    {
     "data": {
      "text/plain": [
       "True"
      ]
     },
     "execution_count": 47,
     "metadata": {},
     "output_type": "execute_result"
    }
   ],
   "source": [
    "list((WA_metro.loc[WA_metro.RegionName == value].Metro) == metro_names[i])[0]"
   ]
  },
  {
   "cell_type": "code",
   "execution_count": 48,
   "metadata": {},
   "outputs": [],
   "source": [
    "sales_group_mean = sales_agg.groupby('Metro').mean()\n",
    "sales_group_mean.drop(columns = ['SizeRank'], inplace = True)\n",
    "sales_group_mean.reset_index(inplace = True)\n",
    "#sales_group_mean"
   ]
  },
  {
   "cell_type": "code",
   "execution_count": 49,
   "metadata": {},
   "outputs": [],
   "source": [
    "sales_group_mean['_2008'] = (sales_group_mean['2008-03'] + sales_group_mean['2008-04'] + sales_group_mean['2008-05'] +\n",
    "                         sales_group_mean['2008-06'] + sales_group_mean['2008-07'] + sales_group_mean['2008-08'] +\n",
    "                         sales_group_mean['2008-09'] + sales_group_mean['2008-10'] + sales_group_mean['2008-11'] +\n",
    "                         sales_group_mean['2008-12'])\n",
    "sales_group_mean['_2009'] = (sales_group_mean['2009-01'] + sales_group_mean['2009-02'] + sales_group_mean['2009-03'] + \n",
    "                          sales_group_mean['2009-04'] + sales_group_mean['2009-05'] + sales_group_mean['2009-06'] + \n",
    "                          sales_group_mean['2009-07'] + sales_group_mean['2009-08'] + sales_group_mean['2009-09'] + \n",
    "                          sales_group_mean['2009-10'] + sales_group_mean['2009-11'] + sales_group_mean['2009-12'])\n",
    "sales_group_mean['_2010'] = (sales_group_mean['2010-01'] + sales_group_mean['2010-02'] + sales_group_mean['2010-03'] + \n",
    "                          sales_group_mean['2010-04'] + sales_group_mean['2010-05'] + sales_group_mean['2010-06'] + \n",
    "                          sales_group_mean['2010-07'] + sales_group_mean['2010-08'] + sales_group_mean['2010-09'] + \n",
    "                          sales_group_mean['2010-10'] + sales_group_mean['2010-11'] + sales_group_mean['2010-12'])\n",
    "sales_group_mean['_2011'] = (sales_group_mean['2011-01'] + sales_group_mean['2011-02'] + sales_group_mean['2011-03'] + \n",
    "                          sales_group_mean['2011-04'] + sales_group_mean['2011-05'] + sales_group_mean['2011-06'] + \n",
    "                          sales_group_mean['2011-07'] + sales_group_mean['2011-08'] + sales_group_mean['2011-09'] + \n",
    "                          sales_group_mean['2011-10'] + sales_group_mean['2011-11'] + sales_group_mean['2011-12'])\n",
    "sales_group_mean['_2012'] = (sales_group_mean['2012-01'] + sales_group_mean['2012-02'] + sales_group_mean['2012-03'] + \n",
    "                          sales_group_mean['2012-04'] + sales_group_mean['2012-05'] + sales_group_mean['2012-06'] + \n",
    "                          sales_group_mean['2012-07'] + sales_group_mean['2012-08'] + sales_group_mean['2012-09'] + \n",
    "                          sales_group_mean['2012-10'] + sales_group_mean['2012-11'] + sales_group_mean['2012-12'])\n",
    "sales_group_mean['_2013'] = (sales_group_mean['2013-01'] + sales_group_mean['2013-02'] + sales_group_mean['2013-03'] + \n",
    "                          sales_group_mean['2013-04'] + sales_group_mean['2013-05'] + sales_group_mean['2013-06'] + \n",
    "                          sales_group_mean['2013-07'] + sales_group_mean['2013-08'] + sales_group_mean['2013-09'] + \n",
    "                          sales_group_mean['2013-10'] + sales_group_mean['2013-11'] + sales_group_mean['2013-12'])\n",
    "sales_group_mean['_2014'] = (sales_group_mean['2014-01'] + sales_group_mean['2014-02'] + sales_group_mean['2014-03'] + \n",
    "                          sales_group_mean['2014-04'] + sales_group_mean['2014-05'] + sales_group_mean['2014-06'] + \n",
    "                          sales_group_mean['2014-07'] + sales_group_mean['2014-08'] + sales_group_mean['2014-09'] + \n",
    "                          sales_group_mean['2014-10'] + sales_group_mean['2014-11'] + sales_group_mean['2014-12'])\n",
    "sales_group_mean['_2015'] = (sales_group_mean['2015-01'] + sales_group_mean['2015-02'] + sales_group_mean['2015-03'] + \n",
    "                          sales_group_mean['2015-04'] + sales_group_mean['2015-05'] + sales_group_mean['2015-06'] + \n",
    "                          sales_group_mean['2015-07'] + sales_group_mean['2015-08'] + sales_group_mean['2015-09'] + \n",
    "                          sales_group_mean['2015-10'] + sales_group_mean['2015-11'] + sales_group_mean['2015-12'])\n",
    "sales_group_mean['_2016'] = (sales_group_mean['2016-01'] + sales_group_mean['2016-02'] + sales_group_mean['2016-03'] + \n",
    "                          sales_group_mean['2016-04'] + sales_group_mean['2016-05'] + sales_group_mean['2016-06'] + \n",
    "                          sales_group_mean['2016-07'] + sales_group_mean['2016-08'] + sales_group_mean['2016-09'] + \n",
    "                          sales_group_mean['2016-10'] + sales_group_mean['2016-11'] + sales_group_mean['2016-12'])\n",
    "sales_group_mean['_2017'] = (sales_group_mean['2017-01'] + sales_group_mean['2017-02'] + sales_group_mean['2017-03'] + \n",
    "                          sales_group_mean['2017-04'] + sales_group_mean['2017-05'] + sales_group_mean['2017-06'] + \n",
    "                          sales_group_mean['2017-07'] + sales_group_mean['2017-08'] + sales_group_mean['2017-09'] + \n",
    "                          sales_group_mean['2017-10'] + sales_group_mean['2017-11'] + sales_group_mean['2017-12'])\n",
    "sales_group_mean['_2018'] = (sales_group_mean['2018-01'] + sales_group_mean['2018-02'] + sales_group_mean['2018-03'] + \n",
    "                          sales_group_mean['2018-04'] + sales_group_mean['2018-05'] + sales_group_mean['2018-06'] + \n",
    "                          sales_group_mean['2018-07'] + sales_group_mean['2018-08'] + sales_group_mean['2018-09'] + \n",
    "                          sales_group_mean['2018-10'] + sales_group_mean['2018-11'] + sales_group_mean['2018-12'])\n",
    "#sales_group_mean.head()"
   ]
  },
  {
   "cell_type": "code",
   "execution_count": 50,
   "metadata": {},
   "outputs": [],
   "source": [
    "sales_group_median = sales_agg.groupby('Metro').median()\n",
    "sales_group_median.drop(columns = ['SizeRank'], inplace = True)\n",
    "sales_group_median.reset_index(inplace = True)\n",
    "#sales_group_median"
   ]
  },
  {
   "cell_type": "code",
   "execution_count": 51,
   "metadata": {},
   "outputs": [],
   "source": [
    "sales_group_median['_2008'] = (sales_group_median['2008-03'] + sales_group_median['2008-04'] + sales_group_median['2008-05'] +\n",
    "                         sales_group_median['2008-06'] + sales_group_median['2008-07'] + sales_group_median['2008-08'] +\n",
    "                         sales_group_median['2008-09'] + sales_group_median['2008-10'] + sales_group_median['2008-11'] +\n",
    "                         sales_group_median['2008-12'])\n",
    "sales_group_median['_2009'] = (sales_group_median['2009-01'] + sales_group_median['2009-02'] + sales_group_median['2009-03'] + \n",
    "                          sales_group_median['2009-04'] + sales_group_median['2009-05'] + sales_group_median['2009-06'] + \n",
    "                          sales_group_median['2009-07'] + sales_group_median['2009-08'] + sales_group_median['2009-09'] + \n",
    "                          sales_group_median['2009-10'] + sales_group_median['2009-11'] + sales_group_median['2009-12'])\n",
    "sales_group_median['_2010'] = (sales_group_median['2010-01'] + sales_group_median['2010-02'] + sales_group_median['2010-03'] + \n",
    "                          sales_group_median['2010-04'] + sales_group_median['2010-05'] + sales_group_median['2010-06'] + \n",
    "                          sales_group_median['2010-07'] + sales_group_median['2010-08'] + sales_group_median['2010-09'] + \n",
    "                          sales_group_median['2010-10'] + sales_group_median['2010-11'] + sales_group_median['2010-12'])\n",
    "sales_group_median['_2011'] = (sales_group_median['2011-01'] + sales_group_median['2011-02'] + sales_group_median['2011-03'] + \n",
    "                          sales_group_median['2011-04'] + sales_group_median['2011-05'] + sales_group_median['2011-06'] + \n",
    "                          sales_group_median['2011-07'] + sales_group_median['2011-08'] + sales_group_median['2011-09'] + \n",
    "                          sales_group_median['2011-10'] + sales_group_median['2011-11'] + sales_group_median['2011-12'])\n",
    "sales_group_median['_2012'] = (sales_group_median['2012-01'] + sales_group_median['2012-02'] + sales_group_median['2012-03'] + \n",
    "                          sales_group_median['2012-04'] + sales_group_median['2012-05'] + sales_group_median['2012-06'] + \n",
    "                          sales_group_median['2012-07'] + sales_group_median['2012-08'] + sales_group_median['2012-09'] + \n",
    "                          sales_group_median['2012-10'] + sales_group_median['2012-11'] + sales_group_median['2012-12'])\n",
    "sales_group_median['_2013'] = (sales_group_median['2013-01'] + sales_group_median['2013-02'] + sales_group_median['2013-03'] + \n",
    "                          sales_group_median['2013-04'] + sales_group_median['2013-05'] + sales_group_median['2013-06'] + \n",
    "                          sales_group_median['2013-07'] + sales_group_median['2013-08'] + sales_group_median['2013-09'] + \n",
    "                          sales_group_median['2013-10'] + sales_group_median['2013-11'] + sales_group_median['2013-12'])\n",
    "sales_group_median['_2014'] = (sales_group_median['2014-01'] + sales_group_median['2014-02'] + sales_group_median['2014-03'] + \n",
    "                          sales_group_median['2014-04'] + sales_group_median['2014-05'] + sales_group_median['2014-06'] + \n",
    "                          sales_group_median['2014-07'] + sales_group_median['2014-08'] + sales_group_median['2014-09'] + \n",
    "                          sales_group_median['2014-10'] + sales_group_median['2014-11'] + sales_group_median['2014-12'])\n",
    "sales_group_median['_2015'] = (sales_group_median['2015-01'] + sales_group_median['2015-02'] + sales_group_median['2015-03'] + \n",
    "                          sales_group_median['2015-04'] + sales_group_median['2015-05'] + sales_group_median['2015-06'] + \n",
    "                          sales_group_median['2015-07'] + sales_group_median['2015-08'] + sales_group_median['2015-09'] + \n",
    "                          sales_group_median['2015-10'] + sales_group_median['2015-11'] + sales_group_median['2015-12'])\n",
    "sales_group_median['_2016'] = (sales_group_median['2016-01'] + sales_group_median['2016-02'] + sales_group_median['2016-03'] + \n",
    "                          sales_group_median['2016-04'] + sales_group_median['2016-05'] + sales_group_median['2016-06'] + \n",
    "                          sales_group_median['2016-07'] + sales_group_median['2016-08'] + sales_group_median['2016-09'] + \n",
    "                          sales_group_median['2016-10'] + sales_group_median['2016-11'] + sales_group_median['2016-12'])\n",
    "sales_group_median['_2017'] = (sales_group_median['2017-01'] + sales_group_median['2017-02'] + sales_group_median['2017-03'] + \n",
    "                          sales_group_median['2017-04'] + sales_group_median['2017-05'] + sales_group_median['2017-06'] + \n",
    "                          sales_group_median['2017-07'] + sales_group_median['2017-08'] + sales_group_median['2017-09'] + \n",
    "                          sales_group_median['2017-10'] + sales_group_median['2017-11'] + sales_group_median['2017-12'])\n",
    "sales_group_median['_2018'] = (sales_group_median['2018-01'] + sales_group_median['2018-02'] + sales_group_median['2018-03'] + \n",
    "                          sales_group_median['2018-04'] + sales_group_median['2018-05'] + sales_group_median['2018-06'] + \n",
    "                          sales_group_median['2018-07'] + sales_group_median['2018-08'] + sales_group_median['2018-09'] + \n",
    "                          sales_group_median['2018-10'] + sales_group_median['2018-11'] + sales_group_median['2018-12'])\n",
    "#sales_group_median.head()"
   ]
  },
  {
   "cell_type": "markdown",
   "metadata": {},
   "source": [
    "# Median Sale Prices Dataset"
   ]
  },
  {
   "cell_type": "code",
   "execution_count": 52,
   "metadata": {},
   "outputs": [],
   "source": [
    "price_raw = pd.read_csv('Raw_Data/Sale_Prices_Zip.csv', encoding = 'latin-1')\n",
    "price_raw.rename(columns = {'RegionName':'ZipCode'}, inplace = True)\n",
    "#price_raw.head()"
   ]
  },
  {
   "cell_type": "markdown",
   "metadata": {},
   "source": [
    "### Aggregate list of zip codes by metro area"
   ]
  },
  {
   "cell_type": "code",
   "execution_count": 53,
   "metadata": {},
   "outputs": [],
   "source": [
    "zip_raw = pd.read_csv('Raw_Data/Zip_Zhvi_AllHomes.csv', encoding = 'latin-1')\n",
    "zip_raw.rename(columns = {'RegionName':'ZipCode'}, inplace = True)\n",
    "#zip_raw.head()"
   ]
  },
  {
   "cell_type": "code",
   "execution_count": 54,
   "metadata": {},
   "outputs": [
    {
     "name": "stderr",
     "output_type": "stream",
     "text": [
      "C:\\Users\\Russell Bogen\\Anaconda3\\lib\\site-packages\\ipykernel_launcher.py:6: SettingWithCopyWarning: \n",
      "A value is trying to be set on a copy of a slice from a DataFrame.\n",
      "Try using .loc[row_indexer,col_indexer] = value instead\n",
      "\n",
      "See the caveats in the documentation: http://pandas.pydata.org/pandas-docs/stable/indexing.html#indexing-view-versus-copy\n",
      "  \n"
     ]
    }
   ],
   "source": [
    "# filter zip codes by metro area\n",
    "zip_metro = zip_raw.loc[zip_raw['Metro'].isin(metro_names)]\n",
    "\n",
    "# Create Realeigh-Durham-Chapel Hill area\n",
    "zip_NC = zip_raw.loc[zip_raw['Metro'].isin(['Raleigh', 'Durham-Chapel Hill'])]\n",
    "zip_NC['Metro'] = 'Raleigh-Durham-Chapel Hill'\n",
    "zip_metro = zip_metro.append(zip_NC)\n",
    "\n",
    "# Create dictionary of zip codes by metro area\n",
    "zip_agg = []\n",
    "for i in range(0, len(metro_names)):\n",
    "    zip_agg.append({metro_names[i]:list((zip_metro.loc[zip_metro['Metro'] == metro_names[i]].ZipCode).values)})"
   ]
  },
  {
   "cell_type": "code",
   "execution_count": 55,
   "metadata": {},
   "outputs": [
    {
     "name": "stderr",
     "output_type": "stream",
     "text": [
      "C:\\Users\\Russell Bogen\\Anaconda3\\lib\\site-packages\\ipykernel_launcher.py:8: SettingWithCopyWarning: \n",
      "A value is trying to be set on a copy of a slice from a DataFrame.\n",
      "Try using .loc[row_indexer,col_indexer] = value instead\n",
      "\n",
      "See the caveats in the documentation: http://pandas.pydata.org/pandas-docs/stable/indexing.html#indexing-view-versus-copy\n",
      "  \n"
     ]
    }
   ],
   "source": [
    "price_agg = pd.DataFrame()\n",
    "\n",
    "# metro area, all zips, single zip\n",
    "for i in range(0, len(metro_names)):\n",
    "    zipper = zip_agg[i][metro_names[i]]\n",
    "\n",
    "    metro_zips = price_raw.loc[price_raw['ZipCode'].isin(zipper)]\n",
    "    metro_zips['Metro'] = metro_names[i]\n",
    "    price_agg = price_agg.append(metro_zips)\n",
    "#price_agg.head()"
   ]
  },
  {
   "cell_type": "code",
   "execution_count": 56,
   "metadata": {},
   "outputs": [],
   "source": [
    "price_agg = price_agg.groupby('Metro').mean()\n",
    "price_agg.drop(columns = ['SizeRank', 'ZipCode', 'RegionID'], inplace = True)\n",
    "price_agg.reset_index(inplace = True)\n",
    "#price_agg"
   ]
  },
  {
   "cell_type": "code",
   "execution_count": 57,
   "metadata": {},
   "outputs": [],
   "source": [
    "price_agg['_2008'] = (price_agg['2008-03'] + price_agg['2008-04'] + price_agg['2008-05'] +\n",
    "                         price_agg['2008-06'] + price_agg['2008-07'] + price_agg['2008-08'] +\n",
    "                         price_agg['2008-09'] + price_agg['2008-10'] + price_agg['2008-11'] +\n",
    "                         price_agg['2008-12'])\n",
    "price_agg['_2009'] = (price_agg['2009-01'] + price_agg['2009-02'] + price_agg['2009-03'] + \n",
    "                          price_agg['2009-04'] + price_agg['2009-05'] + price_agg['2009-06'] + \n",
    "                          price_agg['2009-07'] + price_agg['2009-08'] + price_agg['2009-09'] + \n",
    "                          price_agg['2009-10'] + price_agg['2009-11'] + price_agg['2009-12'])\n",
    "price_agg['_2010'] = (price_agg['2010-01'] + price_agg['2010-02'] + price_agg['2010-03'] + \n",
    "                          price_agg['2010-04'] + price_agg['2010-05'] + price_agg['2010-06'] + \n",
    "                          price_agg['2010-07'] + price_agg['2010-08'] + price_agg['2010-09'] + \n",
    "                          price_agg['2010-10'] + price_agg['2010-11'] + price_agg['2010-12'])\n",
    "price_agg['_2011'] = (price_agg['2011-01'] + price_agg['2011-02'] + price_agg['2011-03'] + \n",
    "                          price_agg['2011-04'] + price_agg['2011-05'] + price_agg['2011-06'] + \n",
    "                          price_agg['2011-07'] + price_agg['2011-08'] + price_agg['2011-09'] + \n",
    "                          price_agg['2011-10'] + price_agg['2011-11'] + price_agg['2011-12'])\n",
    "price_agg['_2012'] = (price_agg['2012-01'] + price_agg['2012-02'] + price_agg['2012-03'] + \n",
    "                          price_agg['2012-04'] + price_agg['2012-05'] + price_agg['2012-06'] + \n",
    "                          price_agg['2012-07'] + price_agg['2012-08'] + price_agg['2012-09'] + \n",
    "                          price_agg['2012-10'] + price_agg['2012-11'] + price_agg['2012-12'])\n",
    "price_agg['_2013'] = (price_agg['2013-01'] + price_agg['2013-02'] + price_agg['2013-03'] + \n",
    "                          price_agg['2013-04'] + price_agg['2013-05'] + price_agg['2013-06'] + \n",
    "                          price_agg['2013-07'] + price_agg['2013-08'] + price_agg['2013-09'] + \n",
    "                          price_agg['2013-10'] + price_agg['2013-11'] + price_agg['2013-12'])\n",
    "price_agg['_2014'] = (price_agg['2014-01'] + price_agg['2014-02'] + price_agg['2014-03'] + \n",
    "                          price_agg['2014-04'] + price_agg['2014-05'] + price_agg['2014-06'] + \n",
    "                          price_agg['2014-07'] + price_agg['2014-08'] + price_agg['2014-09'] + \n",
    "                          price_agg['2014-10'] + price_agg['2014-11'] + price_agg['2014-12'])\n",
    "price_agg['_2015'] = (price_agg['2015-01'] + price_agg['2015-02'] + price_agg['2015-03'] + \n",
    "                          price_agg['2015-04'] + price_agg['2015-05'] + price_agg['2015-06'] + \n",
    "                          price_agg['2015-07'] + price_agg['2015-08'] + price_agg['2015-09'] + \n",
    "                          price_agg['2015-10'] + price_agg['2015-11'] + price_agg['2015-12'])\n",
    "price_agg['_2016'] = (price_agg['2016-01'] + price_agg['2016-02'] + price_agg['2016-03'] + \n",
    "                          price_agg['2016-04'] + price_agg['2016-05'] + price_agg['2016-06'] + \n",
    "                          price_agg['2016-07'] + price_agg['2016-08'] + price_agg['2016-09'] + \n",
    "                          price_agg['2016-10'] + price_agg['2016-11'] + price_agg['2016-12'])\n",
    "price_agg['_2017'] = (price_agg['2017-01'] + price_agg['2017-02'] + price_agg['2017-03'] + \n",
    "                          price_agg['2017-04'] + price_agg['2017-05'] + price_agg['2017-06'] + \n",
    "                          price_agg['2017-07'] + price_agg['2017-08'] + price_agg['2017-09'] + \n",
    "                          price_agg['2017-10'] + price_agg['2017-11'] + price_agg['2017-12'])\n",
    "price_agg['_2018'] = (price_agg['2018-01'] + price_agg['2018-02'] + price_agg['2018-03'] + \n",
    "                          price_agg['2018-04'] + price_agg['2018-05'] + price_agg['2018-06'] + \n",
    "                          price_agg['2018-07'] + price_agg['2018-08'] + price_agg['2018-09'] + \n",
    "                          price_agg['2018-10'] + price_agg['2018-11'] + price_agg['2018-12'])\n",
    "price_agg['coordinates'] = ['30.26, -97.74','32.75, -97.33','39.73, -104.99',\n",
    "                        '42.33, -83.04','40.71, -74.00','28.53, -81.37',\n",
    "                        '35.77, -78.63','37.77, -122.41','47.60, -122.33','38.90, -77.03']\n",
    "# price_agg.dropna(inplace = True)\n",
    "# price_agg.head(10)"
   ]
  },
  {
   "cell_type": "markdown",
   "metadata": {},
   "source": [
    "# MySQL Connection"
   ]
  },
  {
   "cell_type": "code",
   "execution_count": 58,
   "metadata": {},
   "outputs": [
    {
     "data": {
      "text/plain": [
       "<sqlalchemy.engine.result.ResultProxy at 0x2603a978b38>"
      ]
     },
     "execution_count": 58,
     "metadata": {},
     "output_type": "execute_result"
    }
   ],
   "source": [
    "# Define database within MySQL client\n",
    "connection_string = (f\"root:{password}@localhost\")\n",
    "\n",
    "engine = create_engine(f\"mysql://{connection_string}\")\n",
    "engine.execute(\"DROP DATABASE IF EXISTS real_estate\")\n",
    "engine.execute(\"CREATE DATABASE real_estate\")"
   ]
  },
  {
   "cell_type": "code",
   "execution_count": 59,
   "metadata": {},
   "outputs": [
    {
     "data": {
      "text/plain": [
       "<sqlalchemy.engine.result.ResultProxy at 0x2603a7df9b0>"
      ]
     },
     "execution_count": 59,
     "metadata": {},
     "output_type": "execute_result"
    }
   ],
   "source": [
    "engine.execute(\"USE real_estate\")\n",
    "# engine.table_names()"
   ]
  },
  {
   "cell_type": "code",
   "execution_count": 60,
   "metadata": {},
   "outputs": [],
   "source": [
    "engine.execute(\"USE real_estate\")\n",
    "price_agg.to_sql(\n",
    "    name = 'median_price_zip', con = engine,\n",
    "    if_exists = 'replace', chunksize = 75)\n",
    "with engine.connect() as con:\n",
    "    con.execute('ALTER TABLE `median_price_zip` ADD PRIMARY KEY (`index`);')"
   ]
  },
  {
   "cell_type": "code",
   "execution_count": 61,
   "metadata": {},
   "outputs": [],
   "source": [
    "engine.execute(\"USE real_estate\") # select new db\n",
    "sales_group_mean.to_sql(\n",
    "    name = 'mean_sales_count', con = engine,\n",
    "    if_exists = 'replace')\n",
    "with engine.connect() as con:\n",
    "    con.execute('ALTER TABLE `mean_sales_count` ADD PRIMARY KEY (`index`);')"
   ]
  },
  {
   "cell_type": "code",
   "execution_count": 62,
   "metadata": {},
   "outputs": [],
   "source": [
    "engine.execute(\"USE real_estate\") # select new db\n",
    "sales_group_median.to_sql(\n",
    "    name = 'median_sales_count', con = engine,\n",
    "    if_exists = 'replace')\n",
    "with engine.connect() as con:\n",
    "    con.execute('ALTER TABLE `median_sales_count` ADD PRIMARY KEY (`index`);')"
   ]
  },
  {
   "cell_type": "code",
   "execution_count": 63,
   "metadata": {},
   "outputs": [],
   "source": [
    "engine.execute(\"USE real_estate\") # select new db\n",
    "metro_group.to_sql(\n",
    "    name = 'median_price_sqft', con = engine,\n",
    "    if_exists = 'replace')\n",
    "with engine.connect() as con:\n",
    "    con.execute('ALTER TABLE `median_price_sqft` ADD PRIMARY KEY (`index`);')"
   ]
  },
  {
   "cell_type": "markdown",
   "metadata": {},
   "source": []
  }
 ],
 "metadata": {
  "kernelspec": {
   "display_name": "Python 3",
   "language": "python",
   "name": "python3"
  },
  "language_info": {
   "codemirror_mode": {
    "name": "ipython",
    "version": 3
   },
   "file_extension": ".py",
   "mimetype": "text/x-python",
   "name": "python",
   "nbconvert_exporter": "python",
   "pygments_lexer": "ipython3",
   "version": "3.6.5"
  }
 },
 "nbformat": 4,
 "nbformat_minor": 2
}
