{
 "cells": [
  {
   "cell_type": "code",
   "execution_count": 2,
   "metadata": {},
   "outputs": [],
   "source": [
    "from sqlalchemy import create_engine\n",
    "from sqlalchemy.orm import scoped_session, sessionmaker\n",
    "from sqlalchemy.ext.declarative import declarative_base\n",
    "from flask import Flask, jsonify,render_template\n",
    "from sqlalchemy.ext.automap import automap_base\n",
    "from sqlalchemy.orm import Session\n",
    "from mysql_conn import password\n",
    "import numpy as np\n",
    "import pymysql\n",
    "pymysql.install_as_MySQLdb()\n",
    "import requests\n",
    "import pandas as pd"
   ]
  },
  {
   "cell_type": "code",
   "execution_count": 3,
   "metadata": {},
   "outputs": [
    {
     "name": "stdout",
     "output_type": "stream",
     "text": [
      "['mean_sales_count', 'median_price_sqft', 'median_price_zip', 'median_sales_count']\n"
     ]
    }
   ],
   "source": [
    "connection_string = (f\"root:{password}@localhost/real_estate\")\n",
    "engine = create_engine(f\"mysql://{connection_string}\")\n",
    "\n",
    "# reflect an existing database into a new model\n",
    "Base = automap_base()\n",
    "# reflect the tables\n",
    "Base.prepare(engine, reflect=True)\n",
    "# Save reference to the table\n",
    "mean_sales_count = Base.classes.mean_sales_count\n",
    "median_sales_count = Base.classes.median_sales_count\n",
    "median_price_sqft = Base.classes.median_price_sqft\n",
    "median_price_zip = Base.classes.median_price_zip\n",
    "print(Base.classes.keys())\n",
    "\n",
    "# Create our connection object\n",
    "session = Session(engine)"
   ]
  },
  {
   "cell_type": "code",
   "execution_count": 4,
   "metadata": {},
   "outputs": [
    {
     "name": "stdout",
     "output_type": "stream",
     "text": [
      "['Austin-Round Rock', 'Dallas-Fort Worth-Arlington', 'Denver-Aurora-Lakewood', 'Detroit-Warren-Dearborn', 'New York-Newark-Jersey City', 'Orlando-Kissimmee-Sanford', 'Raleigh-Durham-Chapel Hill', 'San Francisco-Oakland-Hayward', 'Seattle-Tacoma-Bellevue', 'Washington-Arlington-Alexandria']\n"
     ]
    }
   ],
   "source": [
    "city_dict = {}\n",
    "results = (session.query(mean_sales_count.Metro).all())\n",
    "city_list = list(np.ravel(results))\n",
    "print(city_list)\n",
    "\n",
    "city_ST = {'Austin-Round Rock': 'Austin, TX', \n",
    "            'Dallas-Fort Worth-Arlington': 'Dallas-Forth Worth, TX', \n",
    "            'Denver-Aurora-Lakewood': 'Denver, CO', \n",
    "            'Detroit-Warren-Dearborn': 'Detroit, MI', \n",
    "            'New York-Newark-Jersey City': 'New York City, NY', \n",
    "            'Orlando-Kissimmee-Sanford': 'Orlando, FL', \n",
    "            'Raleigh-Durham-Chapel Hill': 'Raleigh-Durham, NC', \n",
    "            'San Francisco-Oakland-Hayward': 'San Francisco, CA', \n",
    "            'Seattle-Tacoma-Bellevue': 'Seattle, WA', \n",
    "            'Washington-Arlington-Alexandria': 'Washington D.C.'}"
   ]
  },
  {
   "cell_type": "code",
   "execution_count": 5,
   "metadata": {},
   "outputs": [
    {
     "name": "stdout",
     "output_type": "stream",
     "text": [
      "{'Denver, CO': {'Metro Area': 'Denver-Aurora-Lakewood', 'Median Sale Price Per Year': {'2008': '2266061.1538461498', '2009': '2636127.3526905398', '2010': '2706614.5038429401', '2011': '2682096.8148520198', '2012': '2833528.0706847799', '2013': '3111792.5511506000', '2014': '3366779.4039293998', '2015': '3777083.2814021399', '2016': '4195967.7028484298', '2017': '4574974.6987951798', '2018': '4980854.1852086503'}}}\n",
      "{'Denver, CO': {'Metro Area': 'Denver-Aurora-Lakewood', 'Median Sale Price Per Year': {'2008': '2266061.1538461498', '2009': '2636127.3526905398', '2010': '2706614.5038429401', '2011': '2682096.8148520198', '2012': '2833528.0706847799', '2013': '3111792.5511506000', '2014': '3366779.4039293998', '2015': '3777083.2814021399', '2016': '4195967.7028484298', '2017': '4574974.6987951798', '2018': '4980854.1852086503'}}, 'Detroit, MI': {'Metro Area': 'Detroit-Warren-Dearborn', 'Median Sale Price Per Year': {'2008': '1514714.2857142901', '2009': '1497826.9217510500', '2010': '1379840.9781209801', '2011': '1332954.8773853099', '2012': '1531673.0113184401', '2013': '1828872.0024329401', '2014': '2025716.8344796600', '2015': '2143266.0358278700', '2016': '2220443.8244745601', '2017': '2397070.4761904799', '2018': '2543773.1654635700'}}}\n",
      "{'Denver, CO': {'Metro Area': 'Denver-Aurora-Lakewood', 'Median Sale Price Per Year': {'2008': '2266061.1538461498', '2009': '2636127.3526905398', '2010': '2706614.5038429401', '2011': '2682096.8148520198', '2012': '2833528.0706847799', '2013': '3111792.5511506000', '2014': '3366779.4039293998', '2015': '3777083.2814021399', '2016': '4195967.7028484298', '2017': '4574974.6987951798', '2018': '4980854.1852086503'}}, 'Detroit, MI': {'Metro Area': 'Detroit-Warren-Dearborn', 'Median Sale Price Per Year': {'2008': '1514714.2857142901', '2009': '1497826.9217510500', '2010': '1379840.9781209801', '2011': '1332954.8773853099', '2012': '1531673.0113184401', '2013': '1828872.0024329401', '2014': '2025716.8344796600', '2015': '2143266.0358278700', '2016': '2220443.8244745601', '2017': '2397070.4761904799', '2018': '2543773.1654635700'}}, 'New York City, NY': {'Metro Area': 'New York-Newark-Jersey City', 'Median Sale Price Per Year': {'2008': '3818716.3442460299', '2009': '4237584.4263513302', '2010': '4246184.1854794296', '2011': '4162763.7973387600', '2012': '3955721.0353661301', '2013': '4127031.5004410101', '2014': '4384725.9380552899', '2015': '4584916.9629193600', '2016': '4895827.8207310196', '2017': '5138536.8794326195', '2018': '5405106.1614963701'}}}\n",
      "{'Denver, CO': {'Metro Area': 'Denver-Aurora-Lakewood', 'Median Sale Price Per Year': {'2008': '2266061.1538461498', '2009': '2636127.3526905398', '2010': '2706614.5038429401', '2011': '2682096.8148520198', '2012': '2833528.0706847799', '2013': '3111792.5511506000', '2014': '3366779.4039293998', '2015': '3777083.2814021399', '2016': '4195967.7028484298', '2017': '4574974.6987951798', '2018': '4980854.1852086503'}}, 'Detroit, MI': {'Metro Area': 'Detroit-Warren-Dearborn', 'Median Sale Price Per Year': {'2008': '1514714.2857142901', '2009': '1497826.9217510500', '2010': '1379840.9781209801', '2011': '1332954.8773853099', '2012': '1531673.0113184401', '2013': '1828872.0024329401', '2014': '2025716.8344796600', '2015': '2143266.0358278700', '2016': '2220443.8244745601', '2017': '2397070.4761904799', '2018': '2543773.1654635700'}}, 'New York City, NY': {'Metro Area': 'New York-Newark-Jersey City', 'Median Sale Price Per Year': {'2008': '3818716.3442460299', '2009': '4237584.4263513302', '2010': '4246184.1854794296', '2011': '4162763.7973387600', '2012': '3955721.0353661301', '2013': '4127031.5004410101', '2014': '4384725.9380552899', '2015': '4584916.9629193600', '2016': '4895827.8207310196', '2017': '5138536.8794326195', '2018': '5405106.1614963701'}}, 'Orlando, FL': {'Metro Area': 'Orlando-Kissimmee-Sanford', 'Median Sale Price Per Year': {'2008': '1950652.1739130400', '2009': '1784000.0000000000', '2010': '1523789.8679549100', '2011': '1495855.7844621600', '2012': '1776955.7096672901', '2013': '2035215.6256024700', '2014': '2203223.8295147801', '2015': '2371633.7278818502', '2016': '2569543.7973540202', '2017': '2783628.3333333302', '2018': '2978732.7047491600'}}}\n",
      "{'Denver, CO': {'Metro Area': 'Denver-Aurora-Lakewood', 'Median Sale Price Per Year': {'2008': '2266061.1538461498', '2009': '2636127.3526905398', '2010': '2706614.5038429401', '2011': '2682096.8148520198', '2012': '2833528.0706847799', '2013': '3111792.5511506000', '2014': '3366779.4039293998', '2015': '3777083.2814021399', '2016': '4195967.7028484298', '2017': '4574974.6987951798', '2018': '4980854.1852086503'}}, 'Detroit, MI': {'Metro Area': 'Detroit-Warren-Dearborn', 'Median Sale Price Per Year': {'2008': '1514714.2857142901', '2009': '1497826.9217510500', '2010': '1379840.9781209801', '2011': '1332954.8773853099', '2012': '1531673.0113184401', '2013': '1828872.0024329401', '2014': '2025716.8344796600', '2015': '2143266.0358278700', '2016': '2220443.8244745601', '2017': '2397070.4761904799', '2018': '2543773.1654635700'}}, 'New York City, NY': {'Metro Area': 'New York-Newark-Jersey City', 'Median Sale Price Per Year': {'2008': '3818716.3442460299', '2009': '4237584.4263513302', '2010': '4246184.1854794296', '2011': '4162763.7973387600', '2012': '3955721.0353661301', '2013': '4127031.5004410101', '2014': '4384725.9380552899', '2015': '4584916.9629193600', '2016': '4895827.8207310196', '2017': '5138536.8794326195', '2018': '5405106.1614963701'}}, 'Orlando, FL': {'Metro Area': 'Orlando-Kissimmee-Sanford', 'Median Sale Price Per Year': {'2008': '1950652.1739130400', '2009': '1784000.0000000000', '2010': '1523789.8679549100', '2011': '1495855.7844621600', '2012': '1776955.7096672901', '2013': '2035215.6256024700', '2014': '2203223.8295147801', '2015': '2371633.7278818502', '2016': '2569543.7973540202', '2017': '2783628.3333333302', '2018': '2978732.7047491600'}}, 'Raleigh-Durham, NC': {'Metro Area': 'Raleigh-Durham-Chapel Hill', 'Median Sale Price Per Year': {'2008': '1897391.6666666700', '2009': '2233066.6666666698', '2010': '2358753.5164835202', '2011': '2298389.4444444398', '2012': '2309689.9350649398', '2013': '2339251.8125063302', '2014': '2362967.2364672399', '2015': '2601515.3758438202', '2016': '2860708.4730719300', '2017': '3095462.5000000000', '2018': '3297587.1280589500'}}}\n",
      "{'Denver, CO': {'Metro Area': 'Denver-Aurora-Lakewood', 'Median Sale Price Per Year': {'2008': '2266061.1538461498', '2009': '2636127.3526905398', '2010': '2706614.5038429401', '2011': '2682096.8148520198', '2012': '2833528.0706847799', '2013': '3111792.5511506000', '2014': '3366779.4039293998', '2015': '3777083.2814021399', '2016': '4195967.7028484298', '2017': '4574974.6987951798', '2018': '4980854.1852086503'}}, 'Detroit, MI': {'Metro Area': 'Detroit-Warren-Dearborn', 'Median Sale Price Per Year': {'2008': '1514714.2857142901', '2009': '1497826.9217510500', '2010': '1379840.9781209801', '2011': '1332954.8773853099', '2012': '1531673.0113184401', '2013': '1828872.0024329401', '2014': '2025716.8344796600', '2015': '2143266.0358278700', '2016': '2220443.8244745601', '2017': '2397070.4761904799', '2018': '2543773.1654635700'}}, 'New York City, NY': {'Metro Area': 'New York-Newark-Jersey City', 'Median Sale Price Per Year': {'2008': '3818716.3442460299', '2009': '4237584.4263513302', '2010': '4246184.1854794296', '2011': '4162763.7973387600', '2012': '3955721.0353661301', '2013': '4127031.5004410101', '2014': '4384725.9380552899', '2015': '4584916.9629193600', '2016': '4895827.8207310196', '2017': '5138536.8794326195', '2018': '5405106.1614963701'}}, 'Orlando, FL': {'Metro Area': 'Orlando-Kissimmee-Sanford', 'Median Sale Price Per Year': {'2008': '1950652.1739130400', '2009': '1784000.0000000000', '2010': '1523789.8679549100', '2011': '1495855.7844621600', '2012': '1776955.7096672901', '2013': '2035215.6256024700', '2014': '2203223.8295147801', '2015': '2371633.7278818502', '2016': '2569543.7973540202', '2017': '2783628.3333333302', '2018': '2978732.7047491600'}}, 'Raleigh-Durham, NC': {'Metro Area': 'Raleigh-Durham-Chapel Hill', 'Median Sale Price Per Year': {'2008': '1897391.6666666700', '2009': '2233066.6666666698', '2010': '2358753.5164835202', '2011': '2298389.4444444398', '2012': '2309689.9350649398', '2013': '2339251.8125063302', '2014': '2362967.2364672399', '2015': '2601515.3758438202', '2016': '2860708.4730719300', '2017': '3095462.5000000000', '2018': '3297587.1280589500'}}, 'San Francisco, CA': {'Metro Area': 'San Francisco-Oakland-Hayward', 'Median Sale Price Per Year': {'2008': '5534505.3191489400', '2009': '5991325.0476781102', '2010': '6225601.8915343899', '2011': '5748641.1962108696', '2012': '5982847.8784911903', '2013': '7179224.1275397902', '2014': '8203878.9473684197', '2015': '9411110.1781498305', '2016': '10201742.7223233003', '2017': '11096598.9130435009', '2018': '12245443.9235360995'}}}\n",
      "{'Denver, CO': {'Metro Area': 'Denver-Aurora-Lakewood', 'Median Sale Price Per Year': {'2008': '2266061.1538461498', '2009': '2636127.3526905398', '2010': '2706614.5038429401', '2011': '2682096.8148520198', '2012': '2833528.0706847799', '2013': '3111792.5511506000', '2014': '3366779.4039293998', '2015': '3777083.2814021399', '2016': '4195967.7028484298', '2017': '4574974.6987951798', '2018': '4980854.1852086503'}}, 'Detroit, MI': {'Metro Area': 'Detroit-Warren-Dearborn', 'Median Sale Price Per Year': {'2008': '1514714.2857142901', '2009': '1497826.9217510500', '2010': '1379840.9781209801', '2011': '1332954.8773853099', '2012': '1531673.0113184401', '2013': '1828872.0024329401', '2014': '2025716.8344796600', '2015': '2143266.0358278700', '2016': '2220443.8244745601', '2017': '2397070.4761904799', '2018': '2543773.1654635700'}}, 'New York City, NY': {'Metro Area': 'New York-Newark-Jersey City', 'Median Sale Price Per Year': {'2008': '3818716.3442460299', '2009': '4237584.4263513302', '2010': '4246184.1854794296', '2011': '4162763.7973387600', '2012': '3955721.0353661301', '2013': '4127031.5004410101', '2014': '4384725.9380552899', '2015': '4584916.9629193600', '2016': '4895827.8207310196', '2017': '5138536.8794326195', '2018': '5405106.1614963701'}}, 'Orlando, FL': {'Metro Area': 'Orlando-Kissimmee-Sanford', 'Median Sale Price Per Year': {'2008': '1950652.1739130400', '2009': '1784000.0000000000', '2010': '1523789.8679549100', '2011': '1495855.7844621600', '2012': '1776955.7096672901', '2013': '2035215.6256024700', '2014': '2203223.8295147801', '2015': '2371633.7278818502', '2016': '2569543.7973540202', '2017': '2783628.3333333302', '2018': '2978732.7047491600'}}, 'Raleigh-Durham, NC': {'Metro Area': 'Raleigh-Durham-Chapel Hill', 'Median Sale Price Per Year': {'2008': '1897391.6666666700', '2009': '2233066.6666666698', '2010': '2358753.5164835202', '2011': '2298389.4444444398', '2012': '2309689.9350649398', '2013': '2339251.8125063302', '2014': '2362967.2364672399', '2015': '2601515.3758438202', '2016': '2860708.4730719300', '2017': '3095462.5000000000', '2018': '3297587.1280589500'}}, 'San Francisco, CA': {'Metro Area': 'San Francisco-Oakland-Hayward', 'Median Sale Price Per Year': {'2008': '5534505.3191489400', '2009': '5991325.0476781102', '2010': '6225601.8915343899', '2011': '5748641.1962108696', '2012': '5982847.8784911903', '2013': '7179224.1275397902', '2014': '8203878.9473684197', '2015': '9411110.1781498305', '2016': '10201742.7223233003', '2017': '11096598.9130435009', '2018': '12245443.9235360995'}}, 'Seattle, WA': {'Metro Area': 'Seattle-Tacoma-Bellevue', 'Median Sale Price Per Year': {'2008': '3456403.9215686298', '2009': '3902488.7270048298', '2010': '3883203.3385521299', '2011': '3507125.1860954901', '2012': '3554525.5572295999', '2013': '3838927.0787705700', '2014': '4062040.6878158399', '2015': '4398627.4738472803', '2016': '4937908.6788450601', '2017': '5616315.0442477902', '2018': '6275695.9575692303'}}}\n",
      "{'Denver, CO': {'Metro Area': 'Denver-Aurora-Lakewood', 'Median Sale Price Per Year': {'2008': '2266061.1538461498', '2009': '2636127.3526905398', '2010': '2706614.5038429401', '2011': '2682096.8148520198', '2012': '2833528.0706847799', '2013': '3111792.5511506000', '2014': '3366779.4039293998', '2015': '3777083.2814021399', '2016': '4195967.7028484298', '2017': '4574974.6987951798', '2018': '4980854.1852086503'}}, 'Detroit, MI': {'Metro Area': 'Detroit-Warren-Dearborn', 'Median Sale Price Per Year': {'2008': '1514714.2857142901', '2009': '1497826.9217510500', '2010': '1379840.9781209801', '2011': '1332954.8773853099', '2012': '1531673.0113184401', '2013': '1828872.0024329401', '2014': '2025716.8344796600', '2015': '2143266.0358278700', '2016': '2220443.8244745601', '2017': '2397070.4761904799', '2018': '2543773.1654635700'}}, 'New York City, NY': {'Metro Area': 'New York-Newark-Jersey City', 'Median Sale Price Per Year': {'2008': '3818716.3442460299', '2009': '4237584.4263513302', '2010': '4246184.1854794296', '2011': '4162763.7973387600', '2012': '3955721.0353661301', '2013': '4127031.5004410101', '2014': '4384725.9380552899', '2015': '4584916.9629193600', '2016': '4895827.8207310196', '2017': '5138536.8794326195', '2018': '5405106.1614963701'}}, 'Orlando, FL': {'Metro Area': 'Orlando-Kissimmee-Sanford', 'Median Sale Price Per Year': {'2008': '1950652.1739130400', '2009': '1784000.0000000000', '2010': '1523789.8679549100', '2011': '1495855.7844621600', '2012': '1776955.7096672901', '2013': '2035215.6256024700', '2014': '2203223.8295147801', '2015': '2371633.7278818502', '2016': '2569543.7973540202', '2017': '2783628.3333333302', '2018': '2978732.7047491600'}}, 'Raleigh-Durham, NC': {'Metro Area': 'Raleigh-Durham-Chapel Hill', 'Median Sale Price Per Year': {'2008': '1897391.6666666700', '2009': '2233066.6666666698', '2010': '2358753.5164835202', '2011': '2298389.4444444398', '2012': '2309689.9350649398', '2013': '2339251.8125063302', '2014': '2362967.2364672399', '2015': '2601515.3758438202', '2016': '2860708.4730719300', '2017': '3095462.5000000000', '2018': '3297587.1280589500'}}, 'San Francisco, CA': {'Metro Area': 'San Francisco-Oakland-Hayward', 'Median Sale Price Per Year': {'2008': '5534505.3191489400', '2009': '5991325.0476781102', '2010': '6225601.8915343899', '2011': '5748641.1962108696', '2012': '5982847.8784911903', '2013': '7179224.1275397902', '2014': '8203878.9473684197', '2015': '9411110.1781498305', '2016': '10201742.7223233003', '2017': '11096598.9130435009', '2018': '12245443.9235360995'}}, 'Seattle, WA': {'Metro Area': 'Seattle-Tacoma-Bellevue', 'Median Sale Price Per Year': {'2008': '3456403.9215686298', '2009': '3902488.7270048298', '2010': '3883203.3385521299', '2011': '3507125.1860954901', '2012': '3554525.5572295999', '2013': '3838927.0787705700', '2014': '4062040.6878158399', '2015': '4398627.4738472803', '2016': '4937908.6788450601', '2017': '5616315.0442477902', '2018': '6275695.9575692303'}}, 'Washington D.C.': {'Metro Area': 'Washington-Arlington-Alexandria', 'Median Sale Price Per Year': {'2008': '4013892.3508361802', '2009': '4343009.8627798203', '2010': '4378837.2747104801', '2011': '4269802.6654694397', '2012': '4286233.2672385601', '2013': '4555299.4685840299', '2014': '4675984.1721037999', '2015': '4779969.1486227596', '2016': '4846169.2010658300', '2017': '5041906.7484662598', '2018': '5220421.2688958198'}}}\n"
     ]
    }
   ],
   "source": [
    "city_dict = {}\n",
    "for city in city_list[2:]:\n",
    "    price_results = ((session.query(median_price_zip._2008,\n",
    "                                        median_price_zip._2009,\n",
    "                                        median_price_zip._2010,\n",
    "                                        median_price_zip._2011,\n",
    "                                        median_price_zip._2012,\n",
    "                                        median_price_zip._2013,\n",
    "                                        median_price_zip._2014,\n",
    "                                        median_price_zip._2015,\n",
    "                                        median_price_zip._2016,\n",
    "                                        median_price_zip._2017,\n",
    "                                        median_price_zip._2018)).filter(median_price_zip.Metro == city).all())\n",
    "\n",
    "    price_results_list = list(np.ravel(price_results))\n",
    "    \n",
    "    city_dict[city_ST[city]] = {\n",
    "        \"Metro Area\": city,\n",
    "        \"Median Sale Price Per Year\": {\n",
    "            \"2008\": str(price_results_list[0]),\n",
    "            \"2009\": str(price_results_list[1]),\n",
    "            \"2010\": str(price_results_list[2]),\n",
    "            \"2011\": str(price_results_list[3]),\n",
    "            \"2012\": str(price_results_list[4]),\n",
    "            \"2013\": str(price_results_list[5]),\n",
    "            \"2014\": str(price_results_list[6]),\n",
    "            \"2015\": str(price_results_list[7]),\n",
    "            \"2016\": str(price_results_list[8]),\n",
    "            \"2017\": str(price_results_list[9]),\n",
    "            \"2018\": str(price_results_list[10])\n",
    "        }}\n",
    "    print(city_dict)"
   ]
  },
  {
   "cell_type": "code",
   "execution_count": 7,
   "metadata": {},
   "outputs": [],
   "source": [
    "city_dict = {}\n",
    "results = (session.query(mean_sales_count.Metro).all())\n",
    "city_list = list(np.ravel(results))\n",
    "print(city_list)\n",
    "\n",
    "city_ST = {'Austin-Round Rock': 'Austin, TX', \n",
    "            'Dallas-Fort Worth-Arlington': 'Dallas-Forth Worth, TX', \n",
    "            'Denver-Aurora-Lakewood': 'Denver, CO', \n",
    "            'Detroit-Warren-Dearborn': 'Detroit, MI', \n",
    "            'New York-Newark-Jersey City': 'New York City, NY', \n",
    "            'Orlando-Kissimmee-Sanford': 'Orlando, FL', \n",
    "            'Raleigh-Durham-Chapel Hill': 'Raleigh-Durham, NC', \n",
    "            'San Francisco-Oakland-Hayward': 'San Francisco, CA', \n",
    "            'Seattle-Tacoma-Bellevue': 'Seattle, WA', \n",
    "            'Washington-Arlington-Alexandria': 'Washington D.C.'}\n",
    "\n",
    "coordinates = [[30.26, -97.74],[32.75, -97.33],[39.73, -104.99],\n",
    "                    [42.33, -83.04],[40.71, -74.00],[28.53, -81.37],\n",
    "                    [35.77, -78.63],[37.77, -122.41],[47.60, -122.33],[38.90, -77.03]]\n",
    "\n",
    "for i in range(10):\n",
    "    price_results = ((session.query(median_price_zip._2013,\n",
    "                                        median_price_zip._2014,\n",
    "                                        median_price_zip._2015,\n",
    "                                        median_price_zip._2016,\n",
    "                                        median_price_zip._2017,\n",
    "                                        median_price_zip._2018)).filter(median_price_zip.Metro == city_list[i]).all())\n",
    "\n",
    "    price_results_list = list(np.ravel(price_results))\n",
    "    city_dict.setdefault(\"locations\", [])\n",
    "    city_dict[\"locations\"].append({\n",
    "        \"Coordinates\": coordinates[i],\n",
    "        \"city\":{\n",
    "            \"name\":city_ST[city_list[i]],\n",
    "            \"Metro Area\": city_list[i],\n",
    "            \"Median Sale Price Per Year\": {\n",
    "                \"2013\": str(price_results_list[0]),\n",
    "                \"2014\": str(price_results_list[1]),\n",
    "                \"2015\": str(price_results_list[2]),\n",
    "                \"2016\": str(price_results_list[3]),\n",
    "                \"2017\": str(price_results_list[4]),\n",
    "                \"2018\": str(price_results_list[5])\n",
    "        }}})\n",
    "print(city_dict)"
   ]
  },
  {
   "cell_type": "code",
   "execution_count": 14,
   "metadata": {},
   "outputs": [
    {
     "data": {
      "text/plain": [
       "[]"
      ]
     },
     "execution_count": 14,
     "metadata": {},
     "output_type": "execute_result"
    }
   ],
   "source": [
    "session.query(median_price_zip._2018).filter(median_price_zip.Metro == city_list[i]).all()"
   ]
  }
 ],
 "metadata": {
  "kernelspec": {
   "display_name": "Python 3",
   "language": "python",
   "name": "python3"
  },
  "language_info": {
   "codemirror_mode": {
    "name": "ipython",
    "version": 3
   },
   "file_extension": ".py",
   "mimetype": "text/x-python",
   "name": "python",
   "nbconvert_exporter": "python",
   "pygments_lexer": "ipython3",
   "version": "3.6.5"
  }
 },
 "nbformat": 4,
 "nbformat_minor": 2
}
